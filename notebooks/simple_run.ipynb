{
 "cells": [
  {
   "metadata": {
    "ExecuteTime": {
     "end_time": "2025-05-18T11:14:45.256895Z",
     "start_time": "2025-05-18T11:14:36.874780Z"
    }
   },
   "cell_type": "code",
   "source": [
    "import matplotlib.pyplot as plt\n",
    "import numpy as np\n",
    "from mkl_random import multivariate_normal\n",
    "from scipy.linalg import hankel, svd\n",
    "from numpy.random import randn"
   ],
   "id": "a12d75db8a561f06",
   "outputs": [],
   "execution_count": 1
  },
  {
   "metadata": {
    "ExecuteTime": {
     "end_time": "2025-05-18T11:14:45.312684Z",
     "start_time": "2025-05-18T11:14:45.304167Z"
    }
   },
   "cell_type": "code",
   "source": [
    "# Generate random matrices representing a linear (discrete-time) time-invariant DS\n",
    "def gen_random_lti(n, m, p):\n",
    "    A = randn(n, n)\n",
    "    B = randn(n, m)\n",
    "    C= randn(p, n)\n",
    "    D = randn(p, m)\n",
    "    return A, B, C, D"
   ],
   "id": "e71615809349f951",
   "outputs": [],
   "execution_count": 2
  },
  {
   "metadata": {
    "ExecuteTime": {
     "end_time": "2025-05-18T11:14:45.329458Z",
     "start_time": "2025-05-18T11:14:45.321737Z"
    }
   },
   "cell_type": "code",
   "source": [
    "# Simulate I/O data from (A, B, C, D) for input vector u\n",
    "def simulate_lti(A, B, C, D, u, x0=None):\n",
    "    # Extract dimensions\n",
    "    n, m = B.shape\n",
    "    p = C.shape[0]\n",
    "    T = u.shape[1]\n",
    "\n",
    "    # Pre-allocate state & output vectors\n",
    "    x = np.zeros((n, T+1))\n",
    "    y = np.zeros((p, T))\n",
    "\n",
    "    if x0 is not None:\n",
    "        x[:, 0] = x0\n",
    "    for t in range(T):\n",
    "        x[:, t+1] = A @ x[:, t] + B @ u[:, t]\n",
    "        y[:, t] = C @ x[:, t] + D @ u[:, t]\n",
    "\n",
    "    return x,y"
   ],
   "id": "a5deac5c9f38be48",
   "outputs": [],
   "execution_count": 3
  },
  {
   "metadata": {
    "ExecuteTime": {
     "end_time": "2025-05-18T11:14:45.346398Z",
     "start_time": "2025-05-18T11:14:45.338324Z"
    }
   },
   "cell_type": "code",
   "source": [
    "# Ho-Kalman algorithm\n",
    "def ho_kalman(y, u, n):\n",
    "    T = y.shape[1]\n",
    "    L = T // 2\n",
    "    H = hankel(y[:, :L], y[:, L-1:T-1])\n",
    "    U, S, Vh = svd(H)\n",
    "    O = U[:, :n] @ np.diag(np.sqrt(S[:n]))\n",
    "    R = np.diag(np.sqrt(S[:n])) @ Vh[:n, :]\n",
    "    return O, R # Observability & Reachability matrices"
   ],
   "id": "8020307403ba34c1",
   "outputs": [],
   "execution_count": 4
  },
  {
   "metadata": {
    "ExecuteTime": {
     "end_time": "2025-05-18T11:14:45.363688Z",
     "start_time": "2025-05-18T11:14:45.354427Z"
    }
   },
   "cell_type": "code",
   "source": [
    "# Bandit/Rl-inspired sequential identification algorithm (Placeholder)\n",
    "def naive_bandit_sysid(y, u, n, method='thompson'):\n",
    "    T = y.shape[1]\n",
    "    interval = 10\n",
    "    estimated_As = []\n",
    "    prior_mean = np.zeros((n, n))\n",
    "    prior_cov = np.eye(n)\n",
    "\n",
    "    for i in range(interval, T, interval):\n",
    "        H = hankel(y[:, :i//2], y[:, i//2-1:i-1])\n",
    "        U, S, Vh = svd(H)\n",
    "\n",
    "        if method == 'thompson':\n",
    "            sample = multivariate_normal(prior_mean.flatten(), prior_cov).reshape(n, n)\n",
    "            A_est = sample\n",
    "        elif method == 'ucb':\n",
    "            alpha = 0.1\n",
    "            uncertainty = np.sqrt(np.diag(prior_cov)).reshape(n, n)\n",
    "            A_est = prior_mean + alpha * uncertainty\n",
    "        else:\n",
    "            A_est = U[:, :n] @ np.diag(S[:n]) @ Vh[:n, :]\n",
    "        estimated_As.append(A_est)\n",
    "    return estimated_As"
   ],
   "id": "4be7abba94ba8b3",
   "outputs": [],
   "execution_count": 5
  },
  {
   "metadata": {
    "ExecuteTime": {
     "end_time": "2025-05-18T11:14:46.063139Z",
     "start_time": "2025-05-18T11:14:46.057295Z"
    }
   },
   "cell_type": "code",
   "source": [
    "# Simple identification performance evaluator\n",
    "def evaluate(true_A, estimated_As):\n",
    "    errors = [np.linalg.norm(true_A - A_est, ord='fro') for A_est in estimated_As]\n",
    "    return errors"
   ],
   "id": "c19b6da02891fc3e",
   "outputs": [],
   "execution_count": 6
  },
  {
   "metadata": {
    "ExecuteTime": {
     "end_time": "2025-05-18T11:14:46.206495Z",
     "start_time": "2025-05-18T11:14:46.195185Z"
    }
   },
   "cell_type": "code",
   "source": [
    "def plot_errors(errors_bandit, errors_kalman, label):\n",
    "    intervals = np.arange(10, 10 * len(errors_bandit) + 1, 10)\n",
    "    plt.figure(figsize=(10, 6))\n",
    "    plt.plot(intervals, errors_bandit, label=f'{label}', marker='o')\n",
    "    plt.plot(intervals, [errors_kalman]*len(intervals), label='Ho-Kalman', linestyle='--')\n",
    "    plt.xlabel('Time Step')\n",
    "    plt.ylabel('Frobenius Norm Error')\n",
    "    plt.title(f'Identification Error: {label} vs. Ho-Kalman')\n",
    "    plt.legend()\n",
    "    plt.grid(True)\n",
    "    plt.tight_layout()\n",
    "    plt.show()"
   ],
   "id": "25ffe4c017a737f7",
   "outputs": [],
   "execution_count": 7
  },
  {
   "metadata": {
    "ExecuteTime": {
     "end_time": "2025-05-18T11:14:47.957939Z",
     "start_time": "2025-05-18T11:14:46.228529Z"
    }
   },
   "cell_type": "code",
   "source": [
    "# Example usage\n",
    "# if __name__ == \"__main__\":\n",
    "# Specify system dimensions and the length of the input sequence\n",
    "n, m, p, T = 4, 2, 2, 100\n",
    "A, B, C, D = gen_random_lti(n, m, p)\n",
    "# Generate random input sequence\n",
    "u = randn(m, T)\n",
    "x, y = simulate_lti(A, B, C, D, u)\n",
    "\n",
    "# Ho-Kalman\n",
    "O, R = ho_kalman(y, u, n)\n",
    "ho_kalman_err = np.linalg.norm(A - O[:, :n], ord='fro')\n",
    "\n",
    "# Bandit-based\n",
    "thompson_estimations = naive_bandit_sysid(y, u, n, 'thompson')\n",
    "thompson_err = evaluate(A, thompson_estimations)\n",
    "\n",
    "ucb_estimations = naive_bandit_sysid(y, u, n, 'ucb')\n",
    "ucb_err = evaluate(A, ucb_estimations)\n",
    "\n",
    "# Visualize evaluation results\n",
    "plot_errors(thompson_err, ho_kalman_err, 'Thompson Sampling')\n",
    "plot_errors(ucb_err, ho_kalman_err, 'UCB')"
   ],
   "id": "4f9171963a58a51e",
   "outputs": [
    {
     "ename": "ValueError",
     "evalue": "operands could not be broadcast together with shapes (4,4) (100,4) ",
     "output_type": "error",
     "traceback": [
      "\u001B[1;31m---------------------------------------------------------------------------\u001B[0m",
      "\u001B[1;31mValueError\u001B[0m                                Traceback (most recent call last)",
      "Cell \u001B[1;32mIn[8], line 12\u001B[0m\n\u001B[0;32m     10\u001B[0m \u001B[38;5;66;03m# Ho-Kalman\u001B[39;00m\n\u001B[0;32m     11\u001B[0m O, R \u001B[38;5;241m=\u001B[39m ho_kalman(y, u, n)\n\u001B[1;32m---> 12\u001B[0m ho_kalman_err \u001B[38;5;241m=\u001B[39m np\u001B[38;5;241m.\u001B[39mlinalg\u001B[38;5;241m.\u001B[39mnorm(A \u001B[38;5;241m-\u001B[39m O[:, :n], \u001B[38;5;28mord\u001B[39m\u001B[38;5;241m=\u001B[39m\u001B[38;5;124m'\u001B[39m\u001B[38;5;124mfro\u001B[39m\u001B[38;5;124m'\u001B[39m)\n\u001B[0;32m     14\u001B[0m \u001B[38;5;66;03m# Bandit-based\u001B[39;00m\n\u001B[0;32m     15\u001B[0m thompson_estimations \u001B[38;5;241m=\u001B[39m naive_bandit_sysid(y, u, n, \u001B[38;5;124m'\u001B[39m\u001B[38;5;124mthompson\u001B[39m\u001B[38;5;124m'\u001B[39m)\n",
      "\u001B[1;31mValueError\u001B[0m: operands could not be broadcast together with shapes (4,4) (100,4) "
     ]
    }
   ],
   "execution_count": 8
  },
  {
   "metadata": {},
   "cell_type": "code",
   "outputs": [],
   "execution_count": null,
   "source": "",
   "id": "9d55e96e659a3e1f"
  }
 ],
 "metadata": {},
 "nbformat": 4,
 "nbformat_minor": 5
}
