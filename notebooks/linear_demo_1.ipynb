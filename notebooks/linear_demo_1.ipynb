{
 "cells": [
  {
   "cell_type": "code",
   "execution_count": 1,
   "id": "cad33984",
   "metadata": {},
   "outputs": [
    {
     "ename": "ImportError",
     "evalue": "numpy._core.multiarray failed to import",
     "output_type": "error",
     "traceback": [
      "\u001b[1;31m---------------------------------------------------------------------------\u001b[0m",
      "\u001b[1;31mImportError\u001b[0m                               Traceback (most recent call last)",
      "File \u001b[1;32m__init__.cython-30.pxd:1024\u001b[0m, in \u001b[0;36mnumpy.import_array\u001b[1;34m()\u001b[0m\n",
      "\u001b[1;31mImportError\u001b[0m: DLL load failed while importing _multiarray_umath: The specified module could not be found.",
      "\nDuring handling of the above exception, another exception occurred:\n",
      "\u001b[1;31mImportError\u001b[0m                               Traceback (most recent call last)",
      "Cell \u001b[1;32mIn[1], line 3\u001b[0m\n\u001b[0;32m      1\u001b[0m \u001b[38;5;28;01mimport\u001b[39;00m\u001b[38;5;250m \u001b[39m\u001b[38;5;21;01mnumpy\u001b[39;00m\u001b[38;5;250m \u001b[39m\u001b[38;5;28;01mas\u001b[39;00m\u001b[38;5;250m \u001b[39m\u001b[38;5;21;01mnp\u001b[39;00m\n\u001b[0;32m      2\u001b[0m \u001b[38;5;28;01mimport\u001b[39;00m\u001b[38;5;250m \u001b[39m\u001b[38;5;21;01mmatplotlib\u001b[39;00m\u001b[38;5;21;01m.\u001b[39;00m\u001b[38;5;21;01mpyplot\u001b[39;00m\u001b[38;5;250m \u001b[39m\u001b[38;5;28;01mas\u001b[39;00m\u001b[38;5;250m \u001b[39m\u001b[38;5;21;01mplt\u001b[39;00m\n\u001b[1;32m----> 3\u001b[0m \u001b[38;5;28;01mfrom\u001b[39;00m\u001b[38;5;250m \u001b[39m\u001b[38;5;21;01mscipy\u001b[39;00m\u001b[38;5;21;01m.\u001b[39;00m\u001b[38;5;21;01mintegrate\u001b[39;00m\u001b[38;5;250m \u001b[39m\u001b[38;5;28;01mimport\u001b[39;00m odeint\n",
      "File \u001b[1;32m~\\anaconda3\\lib\\site-packages\\scipy\\integrate\\__init__.py:103\u001b[0m\n\u001b[0;32m      1\u001b[0m \u001b[38;5;124;03m\"\"\"\u001b[39;00m\n\u001b[0;32m      2\u001b[0m \u001b[38;5;124;03m=============================================\u001b[39;00m\n\u001b[0;32m      3\u001b[0m \u001b[38;5;124;03mIntegration and ODEs (:mod:`scipy.integrate`)\u001b[39;00m\n\u001b[1;32m   (...)\u001b[0m\n\u001b[0;32m     99\u001b[0m \u001b[38;5;124;03m   solve_bvp     -- Solve a boundary value problem for a system of ODEs.\u001b[39;00m\n\u001b[0;32m    100\u001b[0m \u001b[38;5;124;03m\"\"\"\u001b[39;00m  \u001b[38;5;66;03m# noqa: E501\u001b[39;00m\n\u001b[1;32m--> 103\u001b[0m \u001b[38;5;28;01mfrom\u001b[39;00m\u001b[38;5;250m \u001b[39m\u001b[38;5;21;01m.\u001b[39;00m\u001b[38;5;21;01m_quadrature\u001b[39;00m\u001b[38;5;250m \u001b[39m\u001b[38;5;28;01mimport\u001b[39;00m \u001b[38;5;241m*\u001b[39m\n\u001b[0;32m    104\u001b[0m \u001b[38;5;28;01mfrom\u001b[39;00m\u001b[38;5;250m \u001b[39m\u001b[38;5;21;01m.\u001b[39;00m\u001b[38;5;21;01m_odepack_py\u001b[39;00m\u001b[38;5;250m \u001b[39m\u001b[38;5;28;01mimport\u001b[39;00m \u001b[38;5;241m*\u001b[39m\n\u001b[0;32m    105\u001b[0m \u001b[38;5;28;01mfrom\u001b[39;00m\u001b[38;5;250m \u001b[39m\u001b[38;5;21;01m.\u001b[39;00m\u001b[38;5;21;01m_quadpack_py\u001b[39;00m\u001b[38;5;250m \u001b[39m\u001b[38;5;28;01mimport\u001b[39;00m \u001b[38;5;241m*\u001b[39m\n",
      "File \u001b[1;32m~\\anaconda3\\lib\\site-packages\\scipy\\integrate\\_quadrature.py:8\u001b[0m\n\u001b[0;32m      5\u001b[0m \u001b[38;5;28;01mfrom\u001b[39;00m\u001b[38;5;250m \u001b[39m\u001b[38;5;21;01mcollections\u001b[39;00m\u001b[38;5;250m \u001b[39m\u001b[38;5;28;01mimport\u001b[39;00m namedtuple\n\u001b[0;32m      6\u001b[0m \u001b[38;5;28;01mfrom\u001b[39;00m\u001b[38;5;250m \u001b[39m\u001b[38;5;21;01mcollections\u001b[39;00m\u001b[38;5;21;01m.\u001b[39;00m\u001b[38;5;21;01mabc\u001b[39;00m\u001b[38;5;250m \u001b[39m\u001b[38;5;28;01mimport\u001b[39;00m Callable\n\u001b[1;32m----> 8\u001b[0m \u001b[38;5;28;01mfrom\u001b[39;00m\u001b[38;5;250m \u001b[39m\u001b[38;5;21;01mscipy\u001b[39;00m\u001b[38;5;21;01m.\u001b[39;00m\u001b[38;5;21;01mspecial\u001b[39;00m\u001b[38;5;250m \u001b[39m\u001b[38;5;28;01mimport\u001b[39;00m roots_legendre\n\u001b[0;32m      9\u001b[0m \u001b[38;5;28;01mfrom\u001b[39;00m\u001b[38;5;250m \u001b[39m\u001b[38;5;21;01mscipy\u001b[39;00m\u001b[38;5;21;01m.\u001b[39;00m\u001b[38;5;21;01mspecial\u001b[39;00m\u001b[38;5;250m \u001b[39m\u001b[38;5;28;01mimport\u001b[39;00m gammaln, logsumexp\n\u001b[0;32m     10\u001b[0m \u001b[38;5;28;01mfrom\u001b[39;00m\u001b[38;5;250m \u001b[39m\u001b[38;5;21;01mscipy\u001b[39;00m\u001b[38;5;21;01m.\u001b[39;00m\u001b[38;5;21;01m_lib\u001b[39;00m\u001b[38;5;21;01m.\u001b[39;00m\u001b[38;5;21;01m_util\u001b[39;00m\u001b[38;5;250m \u001b[39m\u001b[38;5;28;01mimport\u001b[39;00m _rng_spawn\n",
      "File \u001b[1;32m~\\anaconda3\\lib\\site-packages\\scipy\\special\\__init__.py:817\u001b[0m\n\u001b[0;32m    812\u001b[0m _load_libsf_error_state()\n\u001b[0;32m    815\u001b[0m \u001b[38;5;28;01mfrom\u001b[39;00m\u001b[38;5;250m \u001b[39m\u001b[38;5;21;01m.\u001b[39;00m\u001b[38;5;21;01m_sf_error\u001b[39;00m\u001b[38;5;250m \u001b[39m\u001b[38;5;28;01mimport\u001b[39;00m SpecialFunctionWarning, SpecialFunctionError\n\u001b[1;32m--> 817\u001b[0m \u001b[38;5;28;01mfrom\u001b[39;00m\u001b[38;5;250m \u001b[39m\u001b[38;5;21;01m.\u001b[39;00m\u001b[38;5;250m \u001b[39m\u001b[38;5;28;01mimport\u001b[39;00m _ufuncs\n\u001b[0;32m    818\u001b[0m \u001b[38;5;28;01mfrom\u001b[39;00m\u001b[38;5;250m \u001b[39m\u001b[38;5;21;01m.\u001b[39;00m\u001b[38;5;21;01m_ufuncs\u001b[39;00m\u001b[38;5;250m \u001b[39m\u001b[38;5;28;01mimport\u001b[39;00m \u001b[38;5;241m*\u001b[39m\n\u001b[0;32m    820\u001b[0m \u001b[38;5;66;03m# Replace some function definitions from _ufuncs to add Array API support\u001b[39;00m\n",
      "File \u001b[1;32m~\\anaconda3\\lib\\site-packages\\scipy\\special\\_ufuncs.pyx:1\u001b[0m, in \u001b[0;36minit scipy.special._ufuncs\u001b[1;34m()\u001b[0m\n",
      "File \u001b[1;32mscipy\\\\special\\\\_ufuncs_extra_code_common.pxi:26\u001b[0m, in \u001b[0;36minit scipy.special._ufuncs_cxx\u001b[1;34m()\u001b[0m\n",
      "File \u001b[1;32m__init__.cython-30.pxd:1026\u001b[0m, in \u001b[0;36mnumpy.import_array\u001b[1;34m()\u001b[0m\n",
      "\u001b[1;31mImportError\u001b[0m: numpy._core.multiarray failed to import"
     ]
    }
   ],
   "source": [
    "import numpy as np\n",
    "import matplotlib.pyplot as plt\n",
    "from scipy.integrate import odeint"
   ]
  },
  {
   "cell_type": "markdown",
   "id": "d3d34d42",
   "metadata": {},
   "source": [
    "### Minimal Glucose-Insulin Model\n",
    "\n",
    "#### State variables:\n",
    "- G(t): blood glucose concentration [mg/dL]\n",
    "- X(t): remote insulin action [1]\n",
    "- I(t): plasma insulin concentration [$\\mu$U/mL]\n",
    "\n",
    "##### Parameters:\n",
    "- p1: glucose effectiveness\n",
    "- p2: insulin action decay rate\n",
    "- p3: insulin sensitivity\n",
    "- p4: insulin decay rate\n",
    "\n",
    "#### Inputs:\n",
    "- D(t): exogeneous glucose intake (e.g., meals)\n",
    "- u(t): exogeneous insulin infusion (e.g., via a pump)\n",
    "\n",
    "#### (Continuous) System dynamics:\n",
    "- dG/dt = - (p1 + X) * G + p1 * Gb + D(t)\n",
    "- dX/dt = - p2 * X + p3 * (I - Ib)\n",
    "- dI/dt = - p4 * (I - Ib) + u(t)"
   ]
  },
  {
   "cell_type": "code",
   "execution_count": null,
   "id": "f7fdfb56",
   "metadata": {},
   "outputs": [],
   "source": [
    "def gm_model(y, t, p1, p2, p3, p4, Gb, Ib, D_t, u_t)\n",
    "    G, X, I = y\n",
    "    dGdt = -(p1 + X) * G + p1 * Gb + D_t(t)\n",
    "    dXdt = -p2 * X + p3 * (I - Ib)\n",
    "    dIdt = -p4 * (I - Ib) + u_t(t)\n",
    "    return [dGdt, dXdt, dIdt]"
   ]
  },
  {
   "cell_type": "code",
   "execution_count": null,
   "id": "ab7dc581",
   "metadata": {},
   "outputs": [],
   "source": [
    "def simulate_glucose_insulin(p, Gb=90, Ib=15, T=300, dt=1.0):\n",
    "    p1, p2, p3, p4 = p\n",
    "    times = np.arange(0, T + dt, dt)\n",
    "\n",
    "    D_t = lambda t: 20.0 if 50 <= t <= 60 else 0.0\n",
    "    u_t = lambda t: 1.0 if 100 <= t <= 110 else 0.0\n",
    "\n",
    "    y0 = [Gb, 0.0, Ib]\n",
    "    solution = odeint(gm_model, y0, times, args=(p1, p2, p3, p4, Gb, Ib, D_t, u_t))\n",
    "    G, X, I = solution.T\n",
    "\n",
    "    return times, G, X, I, D_t, u_t"
   ]
  },
  {
   "cell_type": "code",
   "execution_count": null,
   "id": "85ac79d8",
   "metadata": {},
   "outputs": [],
   "source": [
    "def ekf_step(x, P, z, u, D, dt, params, R, Q):\n",
    "    p1, p2, p3, p4, Gb, Ib = params\n",
    "\n",
    "    G, X, I = x\n",
    "    dG = -(p1 + X) * G + p1 * Gb + D\n",
    "    dX = -p2 * X + p3 * (I - Ib)\n",
    "    dI = -p4 * (I - Ib) + u\n",
    "    x_pred = x + dt * np.array([dG, dX, dI])\n",
    "\n",
    "    A = np.array([\n",
    "        [-(p1 + X), -G, 0],\n",
    "        [0, -p2, p3],\n",
    "        [0, 0, -p4]\n",
    "    ])\n",
    "    A = np.eye(3) + dt * A\n",
    "\n",
    "    P_pred = A @ P @ A.T + Q\n",
    "    H = np.eye(3)\n",
    "    K = P_pred @ H.T @ np.linalg.inv(H @ P_pred @ H.T + R)\n",
    "    x_upd = x_pred + K @ (z - x_pred)\n",
    "    P_upd = (np.eye(3) - K @ H) @ P_pred\n",
    "\n",
    "    return x_upd, P_upd"
   ]
  },
  {
   "cell_type": "code",
   "execution_count": null,
   "id": "945d41b8",
   "metadata": {},
   "outputs": [],
   "source": [
    "# Mutual Information (MI) approximation\n",
    "def mi_approx(P):\n",
    "    return 0.5 * np.log(np.linalg.det(P) + 1e-6)"
   ]
  },
  {
   "cell_type": "code",
   "execution_count": null,
   "id": "3c793774",
   "metadata": {},
   "outputs": [],
   "source": [
    "# Gradient Descent Parameter Learning\n",
    "def update_parameters(params, x, z, u, D, Gb, Ib, dt, lr):\n",
    "    p1, p2, p3, p4 = params\n",
    "    G, X, I = x\n",
    "    pred = np.array([\n",
    "        -(p1 + X) * G + p1 * Gb + D,\n",
    "        -p2 * X + p3 * (I - Ib),\n",
    "        -p4 * (I - Ib) + u\n",
    "    ])\n",
    "    error = pred * dt - (z - x)\n",
    "    grad = np.array([\n",
    "        (-G + Gb) * dt * error[0],\n",
    "        -X * dt * error[1],\n",
    "        (I - Ib) * dt * error[1],\n",
    "        -(I - Ib) * dt * error[2]\n",
    "    ])\n",
    "    return params - lr * grad"
   ]
  },
  {
   "cell_type": "code",
   "execution_count": null,
   "id": "b7f53425",
   "metadata": {},
   "outputs": [],
   "source": [
    "def select_active_input(x, P, u_candidates, D, dt, theta, R, Q):\n",
    "    best_u, max_mi = None, -np.inf\n",
    "    for u in u_candidates:\n",
    "        x_pred, P_pred = ekf_step(x.copy(), P.copy(), x, u, D, dt, theta, R, Q)\n",
    "        mi = 0.5 * np.log(np.linalg.det(P_pred) + 1e-6)\n",
    "        if mi > max_mi:\n",
    "            best_u, max_mi = u, mi\n",
    "    return best_u"
   ]
  },
  {
   "cell_type": "code",
   "execution_count": null,
   "id": "6812c453",
   "metadata": {},
   "outputs": [],
   "source": [
    "if __name__ == \"__main__\":\n",
    "    true_params = [0.01, 0.02, 0.0005, 0.1]\n",
    "    est_params = [0.02, 0.01, 0.0003, 0.2]  # initial guess\n",
    "    Gb, Ib = 90, 15\n",
    "    T, dt = 300, 1.0\n",
    "    times, G_true, X_true, I_true, D_t, u_t = simulate_glucose_insulin(true_params, Gb, Ib, T, dt)\n",
    "\n",
    "    x_est = np.array([Gb, 0.0, Ib])\n",
    "    P = np.eye(3)\n",
    "    Q = 1e-3 * np.eye(3)\n",
    "    R = 1e-1 * np.eye(3)\n",
    "    x_hist, P_hist, theta_hist = [], [], []\n",
    "\n",
    "    for i, t in enumerate(times):\n",
    "        D = D_t(t)\n",
    "        u_candidates = np.linspace(0.5, 1.5, 5)\n",
    "        u = select_active_input(x_est, P, u_candidates, D, dt, est_params + [Gb, Ib], R, Q)\n",
    "        z = np.array([G_true[i], X_true[i], I_true[i]]) + np.random.multivariate_normal(np.zeros(3), R)\n",
    "\n",
    "        x_est, P = ekf_step(x_est, P, z, u, D, dt, est_params + [Gb, Ib], R, Q)\n",
    "        est_params = update_parameters(est_params, x_est, z, u, D, Gb, Ib, dt, 1e-2)\n",
    "\n",
    "        x_hist.append(x_est.copy())\n",
    "        P_hist.append(P.copy())\n",
    "        theta_hist.append(est_params.copy())\n",
    "\n",
    "    x_hist = np.array(x_hist)\n",
    "    theta_hist = np.array(theta_hist)\n",
    "\n",
    "    plt.figure(figsize=(10, 6))\n",
    "    plt.subplot(3, 1, 1)\n",
    "    plt.plot(times, G_true, 'b-', label='True G')\n",
    "    plt.plot(times, x_hist[:, 0], 'r--', label='EKF G')\n",
    "    plt.legend()\n",
    "\n",
    "    plt.subplot(3, 1, 2)\n",
    "    plt.plot(times, X_true, 'b-', label='True X')\n",
    "    plt.plot(times, x_hist[:, 1], 'r--', label='EKF X')\n",
    "    plt.legend()\n",
    "\n",
    "    plt.subplot(3, 1, 3)\n",
    "    plt.plot(times, I_true, 'b-', label='True I')\n",
    "    plt.plot(times, x_hist[:, 2], 'r--', label='EKF I')\n",
    "    plt.legend()\n",
    "    plt.tight_layout()\n",
    "    plt.show()\n",
    "\n",
    "    plt.figure(figsize=(10, 4))\n",
    "    for j in range(4):\n",
    "        plt.plot(times, theta_hist[:, j], label=f'p{j+1}')\n",
    "    plt.axhline(true_params[0], linestyle='--', color='gray')\n",
    "    plt.title('Parameter Estimates Over Time')\n",
    "    plt.legend()\n",
    "    plt.tight_layout()\n",
    "    plt.show()\n"
   ]
  }
 ],
 "metadata": {
  "kernelspec": {
   "display_name": "Python 3 (ipykernel)",
   "language": "python",
   "name": "python3"
  },
  "language_info": {
   "codemirror_mode": {
    "name": "ipython",
    "version": 3
   },
   "file_extension": ".py",
   "mimetype": "text/x-python",
   "name": "python",
   "nbconvert_exporter": "python",
   "pygments_lexer": "ipython3",
   "version": "3.10.16"
  }
 },
 "nbformat": 4,
 "nbformat_minor": 5
}
